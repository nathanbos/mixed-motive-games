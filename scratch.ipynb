{
 "cells": [
  {
   "cell_type": "code",
   "execution_count": 3,
   "id": "a5dc8659",
   "metadata": {},
   "outputs": [
    {
     "name": "stdout",
     "output_type": "stream",
     "text": [
      "Attempting to load API keys...\n",
      "Gemini Key Loaded: First 5 chars: AIzaS...\n",
      "Anthropic Key Loaded: First 5 chars: sk-an...\n",
      "OpenAI Key Loaded: First 5 chars: sk-pr...\n"
     ]
    }
   ],
   "source": [
    "# test_keys.py (or temporary code in game_logic.py)\n",
    "import os\n",
    "from dotenv import load_dotenv\n",
    "\n",
    "load_dotenv()\n",
    "\n",
    "print(\"Attempting to load API keys...\")\n",
    "gemini_key = os.environ.get(\"GEMINI_API_KEY\")\n",
    "anthropic_key = os.environ.get(\"ANTHROPIC_STUDENT_KEY\")\n",
    "openai_key = os.environ.get(\"OPENAI_STUDENT_KEY\")\n",
    "\n",
    "if gemini_key:\n",
    "    print(f\"Gemini Key Loaded: First 5 chars: {gemini_key[:5]}...\") # Print only a tiny part\n",
    "else:\n",
    "    print(\"Gemini Key NOT Loaded.\")\n",
    "\n",
    "if anthropic_key:\n",
    "    print(f\"Anthropic Key Loaded: First 5 chars: {anthropic_key[:5]}...\")\n",
    "else:\n",
    "    print(\"Anthropic Key NOT Loaded.\")\n",
    "\n",
    "if openai_key:\n",
    "    print(f\"OpenAI Key Loaded: First 5 chars: {openai_key[:5]}...\")\n",
    "else:\n",
    "    print(\"OpenAI Key NOT Loaded.\")"
   ]
  }
 ],
 "metadata": {
  "kernelspec": {
   "display_name": "mixed",
   "language": "python",
   "name": "python3"
  },
  "language_info": {
   "codemirror_mode": {
    "name": "ipython",
    "version": 3
   },
   "file_extension": ".py",
   "mimetype": "text/x-python",
   "name": "python",
   "nbconvert_exporter": "python",
   "pygments_lexer": "ipython3",
   "version": "3.13.3"
  }
 },
 "nbformat": 4,
 "nbformat_minor": 5
}
